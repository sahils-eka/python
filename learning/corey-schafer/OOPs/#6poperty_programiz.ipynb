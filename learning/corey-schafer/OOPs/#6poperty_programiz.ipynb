{
 "cells": [
  {
   "cell_type": "markdown",
   "metadata": {},
   "source": [
    "### Python @property decorator\n",
    "\n",
    "We will learn about Python @property decorator; a pythonic way to use getters and setters in object-oriented programming.\n",
    "\n",
    "Python programming provides us with a built-in @property decorator which makes usage of getter and setters much easier in Object-Oriented Programming."
   ]
  },
  {
   "cell_type": "markdown",
   "metadata": {},
   "source": [
    "Before going into details on what @property decorator is, let us first build an intuition on why it would be needed in the first place.\n",
    "\n",
    "##### Class Without Getters and Setters\n",
    "\n",
    "Let us assume that we decide to make a class that stores the temperature in degrees Celsius. It would also implement a method to convert the temperature into degrees Fahrenheit. One way of doing this is as follows:"
   ]
  },
  {
   "cell_type": "code",
   "execution_count": 15,
   "metadata": {},
   "outputs": [
    {
     "name": "stdout",
     "output_type": "stream",
     "text": [
      "37\n",
      "98.6\n"
     ]
    }
   ],
   "source": [
    "#### Code: 1 #### \n",
    "# Basic method of setting and getting attributes in Python\n",
    "class Celsius:\n",
    "    def __init__(self, temperature = 0):\n",
    "        self.temperature = temperature\n",
    "\n",
    "    def to_fahrenheit(self):\n",
    "        return (self.temperature * 1.8) + 32\n",
    "\n",
    "# Create a new object\n",
    "human = Celsius()\n",
    "human2 = Celsius(42)\n",
    "# Set the temperature\n",
    "human.temperature = 37\n",
    "\n",
    "# Get the temperature attribute\n",
    "print(human.temperature)\n",
    "\n",
    "# Get the to_fahrenheit method\n",
    "print(round((human.to_fahrenheit()),2))"
   ]
  },
  {
   "cell_type": "markdown",
   "metadata": {},
   "source": [
    "#### Using Getters and Setters\n",
    "\n",
    "Suppose we want to extend the usability of the Celsius class defined above. We know that the temperature of any object cannot reach below -273.15 degrees Celsius (Absolute Zero in Thermodynamics).\n",
    "\n",
    "Let's update our code to implement this value constraint.\n",
    "\n",
    "\n",
    "\n"
   ]
  },
  {
   "cell_type": "code",
   "execution_count": 10,
   "metadata": {},
   "outputs": [],
   "source": [
    "### Code 2 ###\n",
    "\n",
    "# changing the name of the class to Celsius2 to avoid any confusione, but consider it as Celsius1\n",
    "\n",
    "class Celsius2:\n",
    "    def __init__(self,temperature):\n",
    "        self.set_temp(temperature)\n",
    "    \n",
    "    # Setter\n",
    "    def set_temp(self,value):\n",
    "        if value < -273.15:\n",
    "            raise ValueError(\"Temp below -273.15 is not possible\") \n",
    "        print(\"Setting Value...\")\n",
    "        self.temp = value\n",
    "\n",
    "    # Getter\n",
    "    def get_temp(self):\n",
    "        print(\"Getting Value...\")\n",
    "        return self.temp\n",
    "\n",
    "    def to_fahr(self):\n",
    "        return (self.temp * 1.8) + 32"
   ]
  },
  {
   "cell_type": "code",
   "execution_count": 11,
   "metadata": {},
   "outputs": [
    {
     "name": "stdout",
     "output_type": "stream",
     "text": [
      "Setting Value...\n",
      "Getting Value...\n",
      "37\n",
      "Fahr-> 98.60000000000001\n"
     ]
    },
    {
     "ename": "ValueError",
     "evalue": "Temp below -273.15 is not possible",
     "output_type": "error",
     "traceback": [
      "\u001b[1;31m---------------------------------------------------------------------------\u001b[0m",
      "\u001b[1;31mValueError\u001b[0m                                Traceback (most recent call last)",
      "\u001b[1;32mc:\\Users\\sahil.singh\\Documents\\Learning\\Python\\Python_Corey\\OOPs\\#6poperty_programiz.ipynb Cell 6'\u001b[0m in \u001b[0;36m<cell line: 6>\u001b[1;34m()\u001b[0m\n\u001b[0;32m      <a href='vscode-notebook-cell:/c%3A/Users/sahil.singh/Documents/Learning/Python/Python_Corey/OOPs/%236poperty_programiz.ipynb#ch0000005?line=1'>2</a>\u001b[0m \u001b[39mprint\u001b[39m(c1\u001b[39m.\u001b[39mget_temp())\n\u001b[0;32m      <a href='vscode-notebook-cell:/c%3A/Users/sahil.singh/Documents/Learning/Python/Python_Corey/OOPs/%236poperty_programiz.ipynb#ch0000005?line=3'>4</a>\u001b[0m \u001b[39mprint\u001b[39m(\u001b[39mf\u001b[39m\u001b[39m\"\u001b[39m\u001b[39mFahr-> \u001b[39m\u001b[39m{\u001b[39;00mc1\u001b[39m.\u001b[39mto_fahr()\u001b[39m}\u001b[39;00m\u001b[39m\"\u001b[39m)\n\u001b[1;32m----> <a href='vscode-notebook-cell:/c%3A/Users/sahil.singh/Documents/Learning/Python/Python_Corey/OOPs/%236poperty_programiz.ipynb#ch0000005?line=5'>6</a>\u001b[0m c2 \u001b[39m=\u001b[39m Celsius2(\u001b[39m-\u001b[39;49m\u001b[39m3000\u001b[39;49m)\n",
      "\u001b[1;32mc:\\Users\\sahil.singh\\Documents\\Learning\\Python\\Python_Corey\\OOPs\\#6poperty_programiz.ipynb Cell 5'\u001b[0m in \u001b[0;36mCelsius2.__init__\u001b[1;34m(self, temperature)\u001b[0m\n\u001b[0;32m      <a href='vscode-notebook-cell:/c%3A/Users/sahil.singh/Documents/Learning/Python/Python_Corey/OOPs/%236poperty_programiz.ipynb#ch0000004?line=5'>6</a>\u001b[0m \u001b[39mdef\u001b[39;00m \u001b[39m__init__\u001b[39m(\u001b[39mself\u001b[39m,temperature):\n\u001b[1;32m----> <a href='vscode-notebook-cell:/c%3A/Users/sahil.singh/Documents/Learning/Python/Python_Corey/OOPs/%236poperty_programiz.ipynb#ch0000004?line=6'>7</a>\u001b[0m     \u001b[39mself\u001b[39;49m\u001b[39m.\u001b[39;49mset_temp(temperature)\n",
      "\u001b[1;32mc:\\Users\\sahil.singh\\Documents\\Learning\\Python\\Python_Corey\\OOPs\\#6poperty_programiz.ipynb Cell 5'\u001b[0m in \u001b[0;36mCelsius2.set_temp\u001b[1;34m(self, value)\u001b[0m\n\u001b[0;32m     <a href='vscode-notebook-cell:/c%3A/Users/sahil.singh/Documents/Learning/Python/Python_Corey/OOPs/%236poperty_programiz.ipynb#ch0000004?line=9'>10</a>\u001b[0m \u001b[39mdef\u001b[39;00m \u001b[39mset_temp\u001b[39m(\u001b[39mself\u001b[39m,value):\n\u001b[0;32m     <a href='vscode-notebook-cell:/c%3A/Users/sahil.singh/Documents/Learning/Python/Python_Corey/OOPs/%236poperty_programiz.ipynb#ch0000004?line=10'>11</a>\u001b[0m     \u001b[39mif\u001b[39;00m value \u001b[39m<\u001b[39m \u001b[39m-\u001b[39m\u001b[39m273.15\u001b[39m:\n\u001b[1;32m---> <a href='vscode-notebook-cell:/c%3A/Users/sahil.singh/Documents/Learning/Python/Python_Corey/OOPs/%236poperty_programiz.ipynb#ch0000004?line=11'>12</a>\u001b[0m         \u001b[39mraise\u001b[39;00m \u001b[39mValueError\u001b[39;00m(\u001b[39m\"\u001b[39m\u001b[39mTemp below -273.15 is not possible\u001b[39m\u001b[39m\"\u001b[39m) \n\u001b[0;32m     <a href='vscode-notebook-cell:/c%3A/Users/sahil.singh/Documents/Learning/Python/Python_Corey/OOPs/%236poperty_programiz.ipynb#ch0000004?line=12'>13</a>\u001b[0m     \u001b[39mprint\u001b[39m(\u001b[39m\"\u001b[39m\u001b[39mSetting Value...\u001b[39m\u001b[39m\"\u001b[39m)\n\u001b[0;32m     <a href='vscode-notebook-cell:/c%3A/Users/sahil.singh/Documents/Learning/Python/Python_Corey/OOPs/%236poperty_programiz.ipynb#ch0000004?line=13'>14</a>\u001b[0m     \u001b[39mself\u001b[39m\u001b[39m.\u001b[39mtemp \u001b[39m=\u001b[39m value\n",
      "\u001b[1;31mValueError\u001b[0m: Temp below -273.15 is not possible"
     ]
    }
   ],
   "source": [
    "c1 = Celsius2(37)\n",
    "print(c1.get_temp())\n",
    "\n",
    "print(f\"Fahr-> {c1.to_fahr()}\")\n",
    "\n",
    "c2 = Celsius2(-3000)"
   ]
  },
  {
   "cell_type": "markdown",
   "metadata": {},
   "source": [
    "So the code is working as expected and is actually doing the same thing as earlier but with that extra addition.\n",
    "\n",
    "__The problem__:\n",
    "\n",
    "Suppose this Class was being used by other users, before we implemented the getter and setter methods.\n",
    "In that case, their code to access the temperature would be as below:\n",
    "\n",
    "object.temperature __(check code #1)__\n",
    "\n",
    "and to set the temperature -> object.temperature = val\n",
    "\n",
    "but now, they will have to modify the code from __object.temperature to object.get_temperature()__ and\n",
    "__object.temperature = val to object.set_temperature(val)__\n",
    "\n",
    "__This refactoring can cause problems while dealing with hundreds of thousands of lines of codes.__\n",
    "\n",
    "this is where property can help us."
   ]
  },
  {
   "cell_type": "code",
   "execution_count": 11,
   "metadata": {},
   "outputs": [],
   "source": [
    "### Code 3 ###\n",
    "\n",
    "# Changing the name of the class to Celsius3 to avoid any confusion, but consider it as extesnsion of Celsius1 and Celsius2\n",
    "\n",
    "class Celsius3:\n",
    "    def __init__(self,temp):\n",
    "        self.temperature = temp \n",
    "\n",
    "    def set_temp(self,value):\n",
    "        print(\"Setting Value...\")\n",
    "\n",
    "        ## Note: make sure to keep the variable name diff from property object\n",
    "        # In our case, the property object is 'temperature' so let's use temp...\n",
    "\n",
    "        self.temp = value\n",
    "\n",
    "    def get_temp(self):\n",
    "        print(\"Getting Value...\")\n",
    "        return self.temp\n",
    "\n",
    "    def to_fahr(self):\n",
    "        return f\"F= {(self.temperature * 1.8) + 32}\"\n",
    "\n",
    "    ## Making property object 'temperature'\n",
    "    temperature = property(get_temp,set_temp)"
   ]
  },
  {
   "cell_type": "code",
   "execution_count": 12,
   "metadata": {},
   "outputs": [
    {
     "name": "stdout",
     "output_type": "stream",
     "text": [
      "Setting Value...\n",
      "Getting Value...\n",
      "42\n",
      "Setting Value...\n",
      "Getting Value...\n",
      "43\n",
      "Getting Value...\n"
     ]
    },
    {
     "data": {
      "text/plain": [
       "'F= 109.4'"
      ]
     },
     "execution_count": 12,
     "metadata": {},
     "output_type": "execute_result"
    }
   ],
   "source": [
    "c2 = Celsius3(42)\n",
    "print(c2.temperature)\n",
    "\n",
    "c2.temperature = 43\n",
    "print(c2.temperature)\n",
    "\n",
    "c2.to_fahr()"
   ]
  },
  {
   "cell_type": "markdown",
   "metadata": {},
   "source": [
    "Everything is working as expected, we were able to implement getter and setter, tweaked our code but made sure that it's working as before.\n",
    "\n",
    "No one has to change their past code, no refactoring required.\n",
    "\n",
    "__Simply put, property() attaches some code (get_temperature and set_temperature) to the member attribute accesses (temperature).__\n",
    "\n",
    "So whenever we are assigining-> object.temperature = value, the set_temperature() method is called. the property method is doing all this for us.\n",
    "\n",
    "When an object is created of this class, the \\_\\_init\\_\\_() method gets called. This method has the line self.temperature = temp. This expression automatically calls set_temperature().\n",
    "\n",
    "Similarly, any access like object.temperature automatically calls get_temperature(). This is what property does.\n"
   ]
  },
  {
   "cell_type": "markdown",
   "metadata": {},
   "source": [
    "#### The @property Decorator\n",
    "In Python, property() is a built-in function that creates and returns a property object. The syntax of this function is:\n",
    "\n",
    "__property(fget=None, fset=None, fdel=None, doc=None)__"
   ]
  },
  {
   "cell_type": "markdown",
   "metadata": {},
   "source": [
    "A property object has three methods, getter(), setter(), and deleter() to specify fget, fset and fdel at a later point. \n",
    "This means, the line:\n",
    "\n",
    "temperature = property(get_temperature,set_temperature)\n",
    "can be broken down as:"
   ]
  },
  {
   "cell_type": "code",
   "execution_count": null,
   "metadata": {},
   "outputs": [
    {
     "data": {
      "text/plain": [
       "'\\n# make empty property\\ntemperature = property()\\n# assign fget\\ntemperature = temperature.getter(get_temperature)\\n# assign fset\\ntemperature = temperature.setter(set_temperature)\\n'"
      ]
     },
     "execution_count": 7,
     "metadata": {},
     "output_type": "execute_result"
    }
   ],
   "source": [
    "'''\n",
    "# make empty property\n",
    "temperature = property()\n",
    "\n",
    "# assign fget\n",
    "temperature = temperature.getter(get_temperature)\n",
    "\n",
    "# assign fset\n",
    "temperature = temperature.setter(set_temperature)\n",
    "'''"
   ]
  },
  {
   "cell_type": "code",
   "execution_count": 16,
   "metadata": {},
   "outputs": [
    {
     "name": "stdout",
     "output_type": "stream",
     "text": [
      "Setting Value...\n",
      "Getting Value...\n",
      "37\n",
      "Getting Value...\n",
      "98.60000000000001\n"
     ]
    }
   ],
   "source": [
    "# Using @property decorator\n",
    "class Celsius4:\n",
    "    def __init__(self, temp=0):\n",
    "        self.temperature = temp\n",
    "    \n",
    "    @property\n",
    "    def temperature(self):\n",
    "        print(\"Getting Value...\")\n",
    "        return self.temp\n",
    "\n",
    "    @temperature.setter\n",
    "    def temperature(self,value):\n",
    "        print(\"Setting Value...\")\n",
    "        self.temp = value\n",
    "    \n",
    "    def to_fahrenheit(self):\n",
    "        return (self.temperature * 1.8) + 32\n",
    "\n",
    "# create an object\n",
    "human = Celsius4(37)\n",
    "\n",
    "print(human.temperature)\n",
    "\n",
    "print(human.to_fahrenheit())"
   ]
  },
  {
   "cell_type": "markdown",
   "metadata": {},
   "source": [
    "The code looks so much clean now.\n",
    "\n",
    "Using the @property decorator we didn't even specify the names get_temperature and set_temperature as they are unnecessary and pollute the class namespace."
   ]
  },
  {
   "cell_type": "code",
   "execution_count": null,
   "metadata": {},
   "outputs": [],
   "source": []
  }
 ],
 "metadata": {
  "kernelspec": {
   "display_name": "Python 3.10.4 64-bit",
   "language": "python",
   "name": "python3"
  },
  "language_info": {
   "codemirror_mode": {
    "name": "ipython",
    "version": 3
   },
   "file_extension": ".py",
   "mimetype": "text/x-python",
   "name": "python",
   "nbconvert_exporter": "python",
   "pygments_lexer": "ipython3",
   "version": "3.10.4"
  },
  "orig_nbformat": 4,
  "vscode": {
   "interpreter": {
    "hash": "369f2c481f4da34e4445cda3fffd2e751bd1c4d706f27375911949ba6bb62e1c"
   }
  }
 },
 "nbformat": 4,
 "nbformat_minor": 2
}
