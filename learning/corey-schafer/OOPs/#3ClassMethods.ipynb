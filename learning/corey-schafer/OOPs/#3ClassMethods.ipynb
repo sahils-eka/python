{
 "cells": [
  {
   "cell_type": "markdown",
   "metadata": {},
   "source": [
    "### OOPs Chapter 3: Class & Static Methods"
   ]
  },
  {
   "cell_type": "markdown",
   "metadata": {},
   "source": [
    "Class methods are simple to identify:\n",
    "- Use @classmethod decorator\n",
    "- Take Class as the first argument - by convention 'cls' is used. \n",
    "\n",
    "Class Methods are also used as an Additional constructor method.\n",
    "- We can replace/set class variables\n",
    "- Using these we can implement a constructor which can be used in some cases(special) to return an object[or the instance]"
   ]
  },
  {
   "cell_type": "code",
   "execution_count": 27,
   "metadata": {},
   "outputs": [],
   "source": [
    "class Emp:\n",
    "    raise_amt = 2\n",
    "    def __init__(self, fname,lname,company,salary):\n",
    "        self.fname = fname\n",
    "        self.lname = lname\n",
    "        self.company = company\n",
    "        self.email = f\"{fname}.{lname}@{company}.com\"\n",
    "        self.salary = salary\n",
    "\n",
    "    def dispaly_full_name(self):\n",
    "        print(f\"Full Name: {self.fname} {self.lname}\")\n",
    "\n",
    "    def raise_salary(self):\n",
    "        self.salary = self.salary*Emp.raise_amt\n",
    "\n",
    "    ## ---- Class method ---- ##\n",
    "    @classmethod\n",
    "    def set_salary(cls,salary):\n",
    "        pass\n",
    "    ## ---- Class method ---- ##"
   ]
  },
  {
   "cell_type": "markdown",
   "metadata": {},
   "source": [
    "- Regular method inside a class automatically takes in the instance as the first argument, i.e. self.\n",
    "- To change this funtionality in order to take the Class as the first argument, we use Class Methods\n",
    "- To turn a regular method into Class method, we use @classmethod decorator."
   ]
  },
  {
   "cell_type": "code",
   "execution_count": 19,
   "metadata": {},
   "outputs": [
    {
     "name": "stdout",
     "output_type": "stream",
     "text": [
      "Current Salary= 6000\n",
      "After Raise, Salary= 12000\n"
     ]
    }
   ],
   "source": [
    "emp1 = Emp('sahil','singh','thales',6000)\n",
    "print(f\"Current Salary= {emp1.salary}\")\n",
    "\n",
    "## Raising the salary using the class variable raise_amt\n",
    "emp1.raise_salary()\n",
    "\n",
    "print(f\"After Raise, Salary= {emp1.salary}\")"
   ]
  },
  {
   "cell_type": "markdown",
   "metadata": {},
   "source": [
    "Let's try to change the raise_amt"
   ]
  },
  {
   "cell_type": "code",
   "execution_count": 20,
   "metadata": {},
   "outputs": [],
   "source": [
    "emp2 = Emp('Eka','singh','microsoft',9000)"
   ]
  },
  {
   "cell_type": "code",
   "execution_count": 25,
   "metadata": {},
   "outputs": [],
   "source": [
    "emp1.raise_amt = 2.5"
   ]
  },
  {
   "cell_type": "markdown",
   "metadata": {},
   "source": [
    "What will happen to raise amount now? will it be changed to 2.5?"
   ]
  },
  {
   "cell_type": "code",
   "execution_count": 23,
   "metadata": {},
   "outputs": [
    {
     "name": "stdout",
     "output_type": "stream",
     "text": [
      "2\n",
      "2.5\n",
      "2\n"
     ]
    }
   ],
   "source": [
    "print(Emp.raise_amt)\n",
    "print(emp1.raise_amt)\n",
    "print(emp2.raise_amt)"
   ]
  },
  {
   "cell_type": "markdown",
   "metadata": {},
   "source": [
    "As expected, only the emp1 instance's raise_amt is changed to 2.5. The 'raise_amt' is a Class Variable and here we have changed the instance's value and not the Class Variable value.\n",
    "- As explained in the last chapter, the statement 'emp1.raise_amt = 2.5' will basically set a new variable in the 'emp1' instance. This can be verified by printing the emp1._dict_ method\n",
    "- This is the reason that for the instance emp2 the raise_amt value will remain same, same as that of the class."
   ]
  },
  {
   "cell_type": "code",
   "execution_count": 26,
   "metadata": {},
   "outputs": [
    {
     "data": {
      "text/plain": [
       "{'fname': 'sahil',\n",
       " 'lname': 'singh',\n",
       " 'company': 'thales',\n",
       " 'email': 'sahil.singh@thales.com',\n",
       " 'salary': 12000,\n",
       " 'raise_amt': 2.5}"
      ]
     },
     "execution_count": 26,
     "metadata": {},
     "output_type": "execute_result"
    }
   ],
   "source": [
    "emp1.__dict__"
   ]
  },
  {
   "cell_type": "markdown",
   "metadata": {},
   "source": [
    "But how to change the value of Class Variable so that it could be inherited by all the instances?\n",
    "- We can set/replace the variable outside the class using ClassName.VariableName = Value\n",
    "- Or... we can implement and use the Class Method"
   ]
  },
  {
   "cell_type": "code",
   "execution_count": 32,
   "metadata": {},
   "outputs": [],
   "source": [
    "class Emp2:\n",
    "    raise_amt = 2\n",
    "    def __init__(self, fname,lname,company,salary):\n",
    "        self.fname = fname\n",
    "        self.lname = lname\n",
    "        self.company = company\n",
    "        self.email = f\"{fname}.{lname}@{company}.com\"\n",
    "        self.salary = salary\n",
    "\n",
    "    def dispaly_full_name(self):\n",
    "        print(f\"Full Name: {self.fname} {self.lname}\")\n",
    "\n",
    "    def raise_salary(self):\n",
    "        self.salary = self.salary*Emp2.raise_amt\n",
    "\n",
    "    ## ---- Class method ---- ##\n",
    "    @classmethod\n",
    "    def set_raise_amount(cls,amount):\n",
    "        ## The first argument,'cls', is the Class itself.\n",
    "        cls.raise_amt = amount\n"
   ]
  },
  {
   "cell_type": "code",
   "execution_count": 33,
   "metadata": {},
   "outputs": [],
   "source": [
    "emp_1 = Emp2('Eka','singh','microsoft',9000)\n",
    "emp_2 = Emp2('Sahil','singh','google',12000)"
   ]
  },
  {
   "cell_type": "code",
   "execution_count": 34,
   "metadata": {},
   "outputs": [
    {
     "name": "stdout",
     "output_type": "stream",
     "text": [
      "## Before calling the classmethod ##\n",
      "2\n",
      "2\n",
      "2\n"
     ]
    }
   ],
   "source": [
    "print(\"## Before calling the classmethod ##\")\n",
    "print(Emp2.raise_amt)\n",
    "print(emp_1.raise_amt)\n",
    "print(emp_2.raise_amt)"
   ]
  },
  {
   "cell_type": "code",
   "execution_count": 35,
   "metadata": {},
   "outputs": [
    {
     "name": "stdout",
     "output_type": "stream",
     "text": [
      "## Calling Class method ##\n"
     ]
    }
   ],
   "source": [
    "print(\"## Calling Class method ##\")\n",
    "Emp2.set_raise_amount(2.5)"
   ]
  },
  {
   "cell_type": "code",
   "execution_count": 36,
   "metadata": {},
   "outputs": [
    {
     "name": "stdout",
     "output_type": "stream",
     "text": [
      "## After calling the classmethod ##\n",
      "2.5\n",
      "2.5\n",
      "2.5\n"
     ]
    }
   ],
   "source": [
    "print(\"## After calling the classmethod ##\")\n",
    "print(Emp2.raise_amt)\n",
    "print(emp_1.raise_amt)\n",
    "print(emp_2.raise_amt)"
   ]
  },
  {
   "cell_type": "markdown",
   "metadata": {},
   "source": [
    "We can also call the class method using the instances of the Class, but this is not as per convention and should be avoided."
   ]
  },
  {
   "cell_type": "code",
   "execution_count": 37,
   "metadata": {},
   "outputs": [
    {
     "name": "stdout",
     "output_type": "stream",
     "text": [
      "## Before calling the classmethod ##\n",
      "2.5\n",
      "2.5\n",
      "2.5\n",
      "## Calling Class method using emp_1 instance of the Class EmpNew ##\n",
      "\n",
      "## After calling the classmethod ##\n",
      "3\n",
      "3\n",
      "3\n"
     ]
    }
   ],
   "source": [
    "print(\"## Before calling the classmethod ##\")\n",
    "print(Emp2.raise_amt)\n",
    "print(emp_1.raise_amt)\n",
    "print(emp_2.raise_amt)\n",
    "\n",
    "print(\"## Calling Class method using emp_1 instance of the Class Emp2 ##\\n\")\n",
    "emp_1.set_raise_amount(3)\n",
    "\n",
    "print(\"## After calling the classmethod ##\")\n",
    "print(Emp2.raise_amt)\n",
    "print(emp_1.raise_amt)\n",
    "print(emp_2.raise_amt)"
   ]
  },
  {
   "cell_type": "markdown",
   "metadata": {},
   "source": [
    "Class Methods are also used as an Additional constructor method.\n",
    "- Using these we can implement a constructor which can be used in some cases(special) to return an object[or the instance]\n",
    "\n",
    "Let's say we have a use case where the name of the employees are given in some other format and we have to make it into the correct format."
   ]
  },
  {
   "cell_type": "code",
   "execution_count": 38,
   "metadata": {},
   "outputs": [],
   "source": [
    "class Emp3:\n",
    "    raise_amt = 2\n",
    "    def __init__(self, fname,lname,company):\n",
    "        self.fname = fname\n",
    "        self.lname = lname\n",
    "        self.company = company\n",
    "        self.email = f\"{fname}.{lname}@{company}.com\"\n",
    "\n",
    "    def dispaly_full_name(self):\n",
    "        print(f\"Full Name: {self.fname} {self.lname}\")\n",
    "\n",
    "    ## ---- Class method ---- ##\n",
    "    @classmethod\n",
    "    def set_raise_amount(cls,amount):\n",
    "        ## The first argument,'cls', is the Class itself.\n",
    "        cls.raise_amt = amount"
   ]
  },
  {
   "cell_type": "code",
   "execution_count": 40,
   "metadata": {},
   "outputs": [],
   "source": [
    "### Suppose the input is in below format\n",
    "input1 = \"Sahil-singh-microsoft\"\n",
    "input2= \"eka-singh-google\""
   ]
  },
  {
   "cell_type": "markdown",
   "metadata": {},
   "source": [
    "But if we have to create an instance of the class Emp3, we need to pass first,last and company name as an argument.Not the complete string.\n",
    "- To pass all these seperately, we will have to perfom split operation\n",
    "- That can be done in below way...but is it the proper way? "
   ]
  },
  {
   "cell_type": "code",
   "execution_count": 41,
   "metadata": {},
   "outputs": [
    {
     "name": "stdout",
     "output_type": "stream",
     "text": [
      "{'fname': 'Sahil', 'lname': 'singh', 'company': 'microsoft', 'email': 'Sahil.singh@microsoft.com'}\n"
     ]
    }
   ],
   "source": [
    "## Splitting input1 to get the elements\n",
    "fname, lname, company = input1.split(\"-\")\n",
    "\n",
    "## passing these values to create object/instance of class Emp3\n",
    "e3_1 = Emp3(fname,lname,company)\n",
    "\n",
    "print(e3_1.__dict__)\n"
   ]
  },
  {
   "cell_type": "markdown",
   "metadata": {},
   "source": [
    "This is wokring as expected, we are able to handle this special case but, is it really the proper way to do this? answer is No.\n",
    "- It's a tedious task as we will have to do this same operation for every new 'inputs'.\n",
    "- Therefore, it's better to implement a function that does this for us, everytime.\n",
    "\n",
    "Let's handle this case using the Class Method"
   ]
  },
  {
   "cell_type": "code",
   "execution_count": 43,
   "metadata": {},
   "outputs": [],
   "source": [
    "class Emp3:\n",
    "    raise_amt = 2\n",
    "    def __init__(self, fname,lname,company):\n",
    "        self.fname = fname\n",
    "        self.lname = lname\n",
    "        self.company = company\n",
    "        self.email = f\"{fname}.{lname}@{company}.com\"\n",
    "\n",
    "    def dispaly_full_name(self):\n",
    "        print(f\"Full Name: {self.fname} {self.lname}\")\n",
    "    \n",
    "    ### Creating an Additional Constructor.\n",
    "    ## Best practice is to name these like 'from_'\n",
    "    @classmethod\n",
    "    def from_string(cls, emp_str):\n",
    "        fname, lname, company = emp_str.split(\"-\")\n",
    "\n",
    "        ## now we will create the instance. Also, we will have to return it so that they can be used.\n",
    "        ## Note: We are using cls in place of Emp3,the class name, as they both mean the same thing.\n",
    "        return cls(fname,lname,company)\n"
   ]
  },
  {
   "cell_type": "code",
   "execution_count": 44,
   "metadata": {},
   "outputs": [
    {
     "name": "stdout",
     "output_type": "stream",
     "text": [
      "{'fname': 'Sahil', 'lname': 'singh', 'company': 'microsoft', 'email': 'Sahil.singh@microsoft.com'}\n",
      "eka.singh@google.com\n"
     ]
    }
   ],
   "source": [
    "e3_2 = Emp3.from_string(\"Sahil-singh-microsoft\")\n",
    "e3_3 = Emp3.from_string(\"eka-singh-google\")\n",
    "## As simple as that...\n",
    "\n",
    "print(e3_2.__dict__)\n",
    "print(e3_3.email)"
   ]
  },
  {
   "cell_type": "markdown",
   "metadata": {},
   "source": [
    "### Static Methods"
   ]
  },
  {
   "cell_type": "markdown",
   "metadata": {},
   "source": [
    "Simply put, Static method is not depended on the instance or the Class. It's a simple method which has a logical connection to Class\n",
    "- It doesn't require any implicit first argument, as seen in Instance and Class methods.\n",
    "- A simple function that is just inside a class. - @staticmethod decorator is used."
   ]
  },
  {
   "cell_type": "code",
   "execution_count": 45,
   "metadata": {},
   "outputs": [],
   "source": [
    "## Lets say we have a use case where we need to print the Welcome message for the employees. No personalization needed.\n",
    "class Emp4:\n",
    "    raise_amt = 2\n",
    "    def __init__(self, fname,lname,company):\n",
    "        self.fname = fname\n",
    "        self.lname = lname\n",
    "        self.company = company\n",
    "        self.email = f\"{fname}.{lname}@{company}.com\"\n",
    "\n",
    "    def dispaly_full_name(self):\n",
    "        print(f\"Full Name: {self.fname} {self.lname}\")\n",
    "    \n",
    "    ## Static Method declaration\n",
    "    @staticmethod\n",
    "    def welcome_message(company):\n",
    "        print(f\"Welcome to {company}, looking forward to working with you.\")\n",
    "        "
   ]
  },
  {
   "cell_type": "code",
   "execution_count": 46,
   "metadata": {},
   "outputs": [
    {
     "name": "stdout",
     "output_type": "stream",
     "text": [
      "Welcome to Microsoft, looking forward to working with you.\n"
     ]
    }
   ],
   "source": [
    "Emp4.welcome_message(\"Microsoft\")"
   ]
  },
  {
   "cell_type": "code",
   "execution_count": null,
   "metadata": {},
   "outputs": [],
   "source": []
  }
 ],
 "metadata": {
  "kernelspec": {
   "display_name": "Python 3.10.4 64-bit",
   "language": "python",
   "name": "python3"
  },
  "language_info": {
   "codemirror_mode": {
    "name": "ipython",
    "version": 3
   },
   "file_extension": ".py",
   "mimetype": "text/x-python",
   "name": "python",
   "nbconvert_exporter": "python",
   "pygments_lexer": "ipython3",
   "version": "3.10.4"
  },
  "orig_nbformat": 4,
  "vscode": {
   "interpreter": {
    "hash": "369f2c481f4da34e4445cda3fffd2e751bd1c4d706f27375911949ba6bb62e1c"
   }
  }
 },
 "nbformat": 4,
 "nbformat_minor": 2
}
