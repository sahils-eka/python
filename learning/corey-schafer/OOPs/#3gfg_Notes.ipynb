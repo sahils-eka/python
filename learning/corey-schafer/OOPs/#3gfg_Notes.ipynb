{
 "cells": [
  {
   "cell_type": "markdown",
   "metadata": {},
   "source": [
    "### Class Method\n",
    "The @classmethod decorator is a built-in function decorator that is an expression that gets evaluated after your function is defined. The result of that evaluation shadows your function definition. \n",
    "\n",
    "A class method receives the class as an implicit first argument, just like an instance method receives the instance.\n",
    "\n",
    "- A class method is a method that is bound to the class and not the object of the class.\n",
    "- They have the access to the state of the class as it takes a class parameter that points to the class and not the object instance.\n",
    "- It can modify a class state that would apply across all the instances of the class. For example, it can modify a class variable that will be applicable to all the instances."
   ]
  },
  {
   "cell_type": "markdown",
   "metadata": {},
   "source": [
    "### Instance Method\n",
    "\n",
    "Instance method are methods which require an object of its class to be created before it can be called. To invoke a instance method, we have to create an Object of the class in which the method is defined.\n",
    "\n",
    "- Instance method belong to the Object of the class, not to the class i.e. they can be called after creating the Object of the class."
   ]
  },
  {
   "cell_type": "markdown",
   "metadata": {},
   "source": [
    "### Static Method\n",
    "A static method does not receive an implicit first argument.\n",
    "- A static method is also a method that is __bound to the class__ and __not__ _the __object__ of the class_.\n",
    "- A static method can’t access or modify the class state.\n",
    "- It is present in a class because it makes sense for the method to be present in class.\n"
   ]
  },
  {
   "cell_type": "markdown",
   "metadata": {},
   "source": []
  },
  {
   "cell_type": "markdown",
   "metadata": {},
   "source": []
  }
 ],
 "metadata": {
  "language_info": {
   "name": "python"
  },
  "orig_nbformat": 4
 },
 "nbformat": 4,
 "nbformat_minor": 2
}
