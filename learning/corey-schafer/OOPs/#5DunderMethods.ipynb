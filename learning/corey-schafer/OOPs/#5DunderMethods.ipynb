{
 "cells": [
  {
   "cell_type": "markdown",
   "metadata": {},
   "source": [
    "### OOPs Chapter 5 - Special(Dunder/Magic) Methods\n",
    "- Dunder => Double Underscore\n",
    "- dunder init = \\_\\_init\\_\\_()"
   ]
  },
  {
   "cell_type": "code",
   "execution_count": 1,
   "metadata": {},
   "outputs": [],
   "source": [
    "class Employee:\n",
    "    def __init__(self,fname,lname):\n",
    "        self.first = fname\n",
    "        self.last = lname\n",
    "        self.email = f\"{fname}.{lname}@company.com\"\n",
    "\n",
    "emp1 =  Employee(\"sahil\",\"singh\")"
   ]
  },
  {
   "cell_type": "code",
   "execution_count": 5,
   "metadata": {},
   "outputs": [
    {
     "name": "stdout",
     "output_type": "stream",
     "text": [
      "<__main__.Employee object at 0x000002258CF99930>\n"
     ]
    }
   ],
   "source": [
    "print(emp1)"
   ]
  },
  {
   "cell_type": "markdown",
   "metadata": {},
   "source": [
    "Output of the above code is bit unclear(in some way) and it would be better if by printing an object we would get meaningful, simple idea about it.\n",
    "\n",
    "That can be done using two special methods:\n",
    "- \\_\\_repr\\_\\_() or repr() - should be used for debugging & logging, usually by developers.\n",
    "- \\_\\_str\\_\\_() or str() - gives readable representation of an object and is meant to be used as a display to the end-user."
   ]
  },
  {
   "cell_type": "markdown",
   "metadata": {},
   "source": [
    "#### Note:\n",
    "It's good to have \\_\\_repr\\_\\_() method, if not \\_\\_str\\_\\_(), as __repr__ method is a fallback of __str__.\n",
    "\n",
    "Below, let's implement the \\_\\_repr\\_\\_() first by overriding it to our need."
   ]
  },
  {
   "cell_type": "code",
   "execution_count": 8,
   "metadata": {},
   "outputs": [],
   "source": [
    "class Employee:\n",
    "    def __init__(self,fname,lname):\n",
    "        self.first = fname\n",
    "        self.last = lname\n",
    "        self.email = f\"{fname}.{lname}@company.com\"\n",
    "\n",
    "    ## Here we are overriding the original __repr__() method\n",
    "    def __repr__(self):\n",
    "        return f\"(repr)Employee - {self.first} {self.last}\""
   ]
  },
  {
   "cell_type": "code",
   "execution_count": 9,
   "metadata": {},
   "outputs": [
    {
     "name": "stdout",
     "output_type": "stream",
     "text": [
      "(repr)Employee - Sahil Singh\n"
     ]
    }
   ],
   "source": [
    "emp2 = Employee(\"Sahil\",\"Singh\")\n",
    "\n",
    "#Print the object\n",
    "print(emp2)"
   ]
  },
  {
   "cell_type": "markdown",
   "metadata": {},
   "source": [
    "Comparing the output that we got before and after implementing \\_\\_repr\\_\\_() method.\n",
    "\n",
    "print(Object)\n",
    "\n",
    "Before->  <\\_\\_main\\_\\_.Employee object at 0x000002258CF99930>\n",
    "\n",
    "After(\\_\\_repr\\_\\_)->  (repr)Employee - Sahil Singh\n",
    "\n",
    "--------------------------------------------------------------------------\n",
    "\n",
    "Now let's test out the \\_\\_str\\_\\_()'s fallback thingy, we will keep both str and repr, and will check the result."
   ]
  },
  {
   "cell_type": "code",
   "execution_count": 10,
   "metadata": {},
   "outputs": [],
   "source": [
    "class Employee:\n",
    "    def __init__(self,fname,lname):\n",
    "        self.first = fname\n",
    "        self.last = lname\n",
    "        self.email = f\"{fname}.{lname}@company.com\"\n",
    "\n",
    "    ## Here we are overriding the original __repr__() method\n",
    "    def __repr__(self):\n",
    "        return f\"(repr)Employee - {self.first} {self.last}\"\n",
    "\n",
    "    ## Here we are overriding the original __str__() method\n",
    "    def __str__(self):\n",
    "        return f\"(str)Employee.email: {self.email}\"\n",
    "    "
   ]
  },
  {
   "cell_type": "code",
   "execution_count": 11,
   "metadata": {},
   "outputs": [
    {
     "name": "stdout",
     "output_type": "stream",
     "text": [
      "(str)Employee.email: Eka.singh@company.com\n"
     ]
    }
   ],
   "source": [
    "emp3 = Employee(\"Eka\",\"singh\")\n",
    "print(emp3)"
   ]
  },
  {
   "cell_type": "markdown",
   "metadata": {},
   "source": [
    "As expected \\_\\_str\\_\\_() method was called and not the \\_\\_repr\\_\\_() method.\n",
    "\n",
    "we can still call them explicitly if we want to...using repr() and str() method."
   ]
  },
  {
   "cell_type": "code",
   "execution_count": 13,
   "metadata": {},
   "outputs": [
    {
     "name": "stdout",
     "output_type": "stream",
     "text": [
      "(repr)Employee - Eka singh\n",
      "(str)Employee.email: Eka.singh@company.com\n"
     ]
    }
   ],
   "source": [
    "print(repr(emp3))\n",
    "# in the background it is basically working like this, emp3.__repr__()\n",
    "\n",
    "print(str(emp3))\n",
    "# in the background, emp3.__str__()"
   ]
  },
  {
   "cell_type": "markdown",
   "metadata": {},
   "source": [
    "Let's add salary variable in the class, create two employees and add those two objects"
   ]
  },
  {
   "cell_type": "code",
   "execution_count": 22,
   "metadata": {},
   "outputs": [],
   "source": [
    "class Emp:\n",
    "    def __init__(self, salary):\n",
    "        self.pay = salary\n",
    "\n",
    "## creating employees\n",
    "em1 = Emp(22)\n",
    "em2 = Emp(24)"
   ]
  },
  {
   "cell_type": "code",
   "execution_count": 23,
   "metadata": {},
   "outputs": [
    {
     "ename": "TypeError",
     "evalue": "unsupported operand type(s) for +: 'Emp' and 'Emp'",
     "output_type": "error",
     "traceback": [
      "\u001b[1;31m---------------------------------------------------------------------------\u001b[0m",
      "\u001b[1;31mTypeError\u001b[0m                                 Traceback (most recent call last)",
      "\u001b[1;32mc:\\Users\\sahil.singh\\Documents\\Learning\\Python\\Python_Corey\\OOPs\\#5DunderMethods.ipynb Cell 15'\u001b[0m in \u001b[0;36m<cell line: 1>\u001b[1;34m()\u001b[0m\n\u001b[1;32m----> <a href='vscode-notebook-cell:/c%3A/Users/sahil.singh/Documents/Learning/Python/Python_Corey/OOPs/%235DunderMethods.ipynb#ch0000017?line=0'>1</a>\u001b[0m \u001b[39mprint\u001b[39m(em1 \u001b[39m+\u001b[39;49m em2)\n",
      "\u001b[1;31mTypeError\u001b[0m: unsupported operand type(s) for +: 'Emp' and 'Emp'"
     ]
    }
   ],
   "source": [
    "print(em1 + em2)"
   ]
  },
  {
   "cell_type": "markdown",
   "metadata": {},
   "source": [
    "The error is pretty clear, + opertor is unable to add these two Emp operands. Reason? the \\_\\_add\\_\\_() method doesn't support this, we can override that method two make it work as per our need. "
   ]
  },
  {
   "cell_type": "code",
   "execution_count": 24,
   "metadata": {},
   "outputs": [],
   "source": [
    "class Emp:\n",
    "    def __init__(self, salary):\n",
    "        self.pay = salary\n",
    "    \n",
    "    #overriding/modifying the __add__() method\n",
    "    def __add__(ob1, ob2):\n",
    "        return ob1.pay + ob2.pay\n",
    "\n",
    "## creating employees\n",
    "em1 = Emp(22)\n",
    "em2 = Emp(24)"
   ]
  },
  {
   "cell_type": "code",
   "execution_count": 25,
   "metadata": {},
   "outputs": [
    {
     "name": "stdout",
     "output_type": "stream",
     "text": [
      "46\n"
     ]
    }
   ],
   "source": [
    "print(em1 + em2)"
   ]
  },
  {
   "cell_type": "markdown",
   "metadata": {},
   "source": [
    "And here we were able to override the \\_\\_add\\_\\_() method and add the pay of the 2 Emp objects.\n",
    "\n",
    "Even len() funtion is using a dunder method in background. - Explanation below"
   ]
  },
  {
   "cell_type": "code",
   "execution_count": 28,
   "metadata": {},
   "outputs": [
    {
     "name": "stdout",
     "output_type": "stream",
     "text": [
      "len() -> 5\n",
      "__len__() -> 5\n"
     ]
    }
   ],
   "source": [
    "# String lenght using len() function\n",
    "print(f\"len() -> {len('sahil')}\")\n",
    "\n",
    "# String length using __len__() dunder method.\n",
    "print(f\"__len__() -> {'sahil'.__len__()}\")"
   ]
  },
  {
   "cell_type": "code",
   "execution_count": null,
   "metadata": {},
   "outputs": [],
   "source": []
  }
 ],
 "metadata": {
  "kernelspec": {
   "display_name": "Python 3.10.4 64-bit",
   "language": "python",
   "name": "python3"
  },
  "language_info": {
   "codemirror_mode": {
    "name": "ipython",
    "version": 3
   },
   "file_extension": ".py",
   "mimetype": "text/x-python",
   "name": "python",
   "nbconvert_exporter": "python",
   "pygments_lexer": "ipython3",
   "version": "3.10.4"
  },
  "orig_nbformat": 4,
  "vscode": {
   "interpreter": {
    "hash": "369f2c481f4da34e4445cda3fffd2e751bd1c4d706f27375911949ba6bb62e1c"
   }
  }
 },
 "nbformat": 4,
 "nbformat_minor": 2
}
