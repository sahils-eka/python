{
 "cells": [
  {
   "cell_type": "markdown",
   "metadata": {},
   "source": [
    "### OOPs Chapter 2 - Class Variables\n",
    "\n",
    "- The variables that are declared using the 'self' argument(example in the __init__() method) are called as instance variables.\n",
    "  These are unique to each instances created.\n",
    "\n",
    "- Class Variables are the variables that are shared among all instances of a class. Class variables should be same for each instance. "
   ]
  },
  {
   "cell_type": "code",
   "execution_count": 2,
   "metadata": {},
   "outputs": [],
   "source": [
    "class Emp:\n",
    "    ## This is class variable\n",
    "    count = 0\n",
    "    def __init__(self, fname,lname,company):\n",
    "        #----\n",
    "        # All the below variables are <<instance variables>>\n",
    "        #----\n",
    "        self.fname = fname\n",
    "        self.lname = lname\n",
    "        self.company = company\n",
    "        self.email = f\"{fname}.{lname}@{company}.com\"\n",
    "        \n",
    "        #-- Accessing class variable here\n",
    "        print(f\"Count = {count}\")\n",
    "\n",
    "    def dispaly_full_name(self):\n",
    "        print(f\"Full Name: {self.fname} {self.lname}\")"
   ]
  },
  {
   "cell_type": "markdown",
   "metadata": {},
   "source": [
    "Above code will give an Error. But why?\n",
    "- Because we are trying to access a class variable inside a method. For Python, the 'count' variable inside the 'init()' method doesn't exist.\n",
    "- lets check the error..."
   ]
  },
  {
   "cell_type": "code",
   "execution_count": 6,
   "metadata": {},
   "outputs": [
    {
     "ename": "NameError",
     "evalue": "name 'count' is not defined",
     "output_type": "error",
     "traceback": [
      "\u001b[1;31m---------------------------------------------------------------------------\u001b[0m",
      "\u001b[1;31mNameError\u001b[0m                                 Traceback (most recent call last)",
      "\u001b[1;32mc:\\Users\\sahil.singh\\Documents\\Learning\\Python\\Python_Corey\\OOPs\\#2ClassVariables.ipynb Cell 4'\u001b[0m in \u001b[0;36m<cell line: 1>\u001b[1;34m()\u001b[0m\n\u001b[1;32m----> <a href='vscode-notebook-cell:/c%3A/Users/sahil.singh/Documents/Learning/Python/Python_Corey/OOPs/%232ClassVariables.ipynb#ch0000003?line=0'>1</a>\u001b[0m emp1 \u001b[39m=\u001b[39m Emp(\u001b[39m'\u001b[39;49m\u001b[39msahil\u001b[39;49m\u001b[39m'\u001b[39;49m,\u001b[39m'\u001b[39;49m\u001b[39mSingh\u001b[39;49m\u001b[39m'\u001b[39;49m,\u001b[39m'\u001b[39;49m\u001b[39mThales\u001b[39;49m\u001b[39m'\u001b[39;49m)\n",
      "\u001b[1;32mc:\\Users\\sahil.singh\\Documents\\Learning\\Python\\Python_Corey\\OOPs\\#2ClassVariables.ipynb Cell 2'\u001b[0m in \u001b[0;36mEmp.__init__\u001b[1;34m(self, fname, lname, company)\u001b[0m\n\u001b[0;32m     <a href='vscode-notebook-cell:/c%3A/Users/sahil.singh/Documents/Learning/Python/Python_Corey/OOPs/%232ClassVariables.ipynb#ch0000001?line=10'>11</a>\u001b[0m \u001b[39mself\u001b[39m\u001b[39m.\u001b[39memail \u001b[39m=\u001b[39m \u001b[39mf\u001b[39m\u001b[39m\"\u001b[39m\u001b[39m{\u001b[39;00mfname\u001b[39m}\u001b[39;00m\u001b[39m.\u001b[39m\u001b[39m{\u001b[39;00mlname\u001b[39m}\u001b[39;00m\u001b[39m@\u001b[39m\u001b[39m{\u001b[39;00mcompany\u001b[39m}\u001b[39;00m\u001b[39m.com\u001b[39m\u001b[39m\"\u001b[39m\n\u001b[0;32m     <a href='vscode-notebook-cell:/c%3A/Users/sahil.singh/Documents/Learning/Python/Python_Corey/OOPs/%232ClassVariables.ipynb#ch0000001?line=12'>13</a>\u001b[0m \u001b[39m#-- Accessing class variable here\u001b[39;00m\n\u001b[1;32m---> <a href='vscode-notebook-cell:/c%3A/Users/sahil.singh/Documents/Learning/Python/Python_Corey/OOPs/%232ClassVariables.ipynb#ch0000001?line=13'>14</a>\u001b[0m \u001b[39mprint\u001b[39m(\u001b[39mf\u001b[39m\u001b[39m\"\u001b[39m\u001b[39mCount = \u001b[39m\u001b[39m{\u001b[39;00mcount\u001b[39m}\u001b[39;00m\u001b[39m\"\u001b[39m)\n",
      "\u001b[1;31mNameError\u001b[0m: name 'count' is not defined"
     ]
    }
   ],
   "source": [
    "emp1 = Emp('sahil','Singh','Thales')"
   ]
  },
  {
   "cell_type": "markdown",
   "metadata": {},
   "source": [
    "Let's try to dig a lil bit deeper....why exactly this issue? How python is working here.\n",
    "- We can check all the methods and attributes declared/defined in a Class\n",
    "- using \"__dict__\" method\n",
    "- By the name we can figure out that __dict__ will return a dictionary of all key and it's value"
   ]
  },
  {
   "cell_type": "code",
   "execution_count": 7,
   "metadata": {},
   "outputs": [
    {
     "name": "stdout",
     "output_type": "stream",
     "text": [
      "{'__module__': '__main__', 'count': 0, '__init__': <function Emp.__init__ at 0x000001AC8A4D5870>, 'dispaly_full_name': <function Emp.dispaly_full_name at 0x000001AC8BFE5360>, '__dict__': <attribute '__dict__' of 'Emp' objects>, '__weakref__': <attribute '__weakref__' of 'Emp' objects>, '__doc__': None}\n"
     ]
    }
   ],
   "source": [
    "## Checking all the methods and attributes of the class Emp and object emp1\n",
    "print(Emp.__dict__)"
   ]
  },
  {
   "cell_type": "code",
   "execution_count": 8,
   "metadata": {},
   "outputs": [
    {
     "ename": "NameError",
     "evalue": "name 'emp1' is not defined",
     "output_type": "error",
     "traceback": [
      "\u001b[1;31m---------------------------------------------------------------------------\u001b[0m",
      "\u001b[1;31mNameError\u001b[0m                                 Traceback (most recent call last)",
      "\u001b[1;32mc:\\Users\\sahil.singh\\Documents\\Learning\\Python\\Python_Corey\\OOPs\\#2ClassVariables.ipynb Cell 7'\u001b[0m in \u001b[0;36m<cell line: 1>\u001b[1;34m()\u001b[0m\n\u001b[1;32m----> <a href='vscode-notebook-cell:/c%3A/Users/sahil.singh/Documents/Learning/Python/Python_Corey/OOPs/%232ClassVariables.ipynb#ch0000006?line=0'>1</a>\u001b[0m \u001b[39mprint\u001b[39m(emp1\u001b[39m.\u001b[39m\u001b[39m__dict__\u001b[39m)\n",
      "\u001b[1;31mNameError\u001b[0m: name 'emp1' is not defined"
     ]
    }
   ],
   "source": [
    "print(emp1.__dict__)"
   ]
  },
  {
   "cell_type": "markdown",
   "metadata": {},
   "source": [
    "(Above) By this it's clear that emp1 object that was created using Emp blueprint does not have a variable named \"count\""
   ]
  },
  {
   "cell_type": "markdown",
   "metadata": {},
   "source": [
    "#### We can access a class Variable using the Class itself or by an Instance of the class.\n",
    "\n",
    "As soon as we create an object of the class Emp, init is called and within init(), we are trying to print a variable that is not known to Python.\n",
    "- To fix this error we need to tell python that 'count' is a variable of class 'Emp'\n"
   ]
  },
  {
   "cell_type": "code",
   "execution_count": 19,
   "metadata": {},
   "outputs": [
    {
     "name": "stdout",
     "output_type": "stream",
     "text": [
      "Name: sahil Singh\n",
      "Count = 0\n"
     ]
    }
   ],
   "source": [
    "class Emp:\n",
    "    ## This is class variable\n",
    "    count = 0\n",
    "    def __init__(self, fname,lname,company):\n",
    "        self.fname = fname\n",
    "        self.lname = lname\n",
    "        self.company = company\n",
    "        self.email = f\"{fname}.{lname}@{company}.com\"\n",
    "        #-- Accessing class variable here\n",
    "        print(f\"Name: {self.fname} {self.lname}\")\n",
    "        print(f\"Count = {Emp.count}\")\n",
    "\n",
    "    def dispaly_full_name(self):\n",
    "        print(f\"Full Name: {self.fname} {self.lname}\")\n",
    "\n",
    "emp2 = Emp('sahil','Singh','Thales')"
   ]
  },
  {
   "cell_type": "markdown",
   "metadata": {},
   "source": [
    "(Above) This time we didn't receive the 'not defined' error and the value of count was printed"
   ]
  },
  {
   "cell_type": "markdown",
   "metadata": {},
   "source": [
    "Hmm...now let's try to check the __dict__ of this object - emp2"
   ]
  },
  {
   "cell_type": "code",
   "execution_count": 20,
   "metadata": {},
   "outputs": [
    {
     "name": "stdout",
     "output_type": "stream",
     "text": [
      "{'fname': 'sahil', 'lname': 'Singh', 'company': 'Thales', 'email': 'sahil.Singh@Thales.com'}\n"
     ]
    }
   ],
   "source": [
    "print(emp2.__dict__)"
   ]
  },
  {
   "cell_type": "markdown",
   "metadata": {},
   "source": [
    "Hehe...obviously this time too the 'count' variable will not be part of emp2 object as we are trying to access it using the ClassName.\n",
    "- That means the variable is not in the scope of emp2 object, but we have given a kind of address to python to check for count in 'Emp.count'"
   ]
  },
  {
   "cell_type": "markdown",
   "metadata": {},
   "source": [
    "#### Important:\n",
    "There is one more way to access the Class variable, that is through the instance of the class"
   ]
  },
  {
   "cell_type": "code",
   "execution_count": 21,
   "metadata": {},
   "outputs": [
    {
     "name": "stdout",
     "output_type": "stream",
     "text": [
      "Eka\n",
      "Count = 0\n"
     ]
    }
   ],
   "source": [
    "class Emp:\n",
    "    ## This is class variable\n",
    "    count = 0\n",
    "    def __init__(self, fname,lname,company):\n",
    "        self.fname = fname\n",
    "        self.lname = lname\n",
    "        self.company = company\n",
    "        self.email = f\"{fname}.{lname}@{company}.com\"\n",
    "        #-- Accessing class variable here\n",
    "        ### USING self keyword (using instance)\n",
    "        # --\n",
    "        print(self.fname)\n",
    "        print(f\"Count = {self.count}\")\n",
    "\n",
    "    def dispaly_full_name(self):\n",
    "        print(f\"Full Name: {self.fname} {self.lname}\")\n",
    "\n",
    "emp3 = Emp('Eka','Singh','Thales')"
   ]
  },
  {
   "cell_type": "markdown",
   "metadata": {},
   "source": [
    "But why 'self' didn't throw an error?\n",
    "- Reason is quite simple, when we try to access a variable, python first checks if that variable is present in the instance. If it's there, then    voila!! It will do it work and...\n",
    "- If the variable is not present in the instance, it will try to check if that variable is present in the immediate parent of the instance i.e. in the super class(if inherited) and finally, in the class itself- and will bring us the Class Variable."
   ]
  },
  {
   "cell_type": "markdown",
   "metadata": {},
   "source": [
    "Okay...but what about the __dict__ of this object, let's see what it will bring"
   ]
  },
  {
   "cell_type": "code",
   "execution_count": 22,
   "metadata": {},
   "outputs": [
    {
     "name": "stdout",
     "output_type": "stream",
     "text": [
      "{'fname': 'Eka', 'lname': 'Singh', 'company': 'Thales', 'email': 'Eka.Singh@Thales.com'}\n"
     ]
    }
   ],
   "source": [
    "print(emp3.__dict__)"
   ]
  },
  {
   "cell_type": "markdown",
   "metadata": {},
   "source": [
    "As you may have guessed, from the explanation(Above) it's clear that the variable was not in the emp3 but python then went ahead and checked it in the Class."
   ]
  }
 ],
 "metadata": {
  "interpreter": {
   "hash": "369f2c481f4da34e4445cda3fffd2e751bd1c4d706f27375911949ba6bb62e1c"
  },
  "kernelspec": {
   "display_name": "Python 3.10.4 64-bit",
   "language": "python",
   "name": "python3"
  },
  "language_info": {
   "codemirror_mode": {
    "name": "ipython",
    "version": 3
   },
   "file_extension": ".py",
   "mimetype": "text/x-python",
   "name": "python",
   "nbconvert_exporter": "python",
   "pygments_lexer": "ipython3",
   "version": "3.10.4"
  },
  "orig_nbformat": 4
 },
 "nbformat": 4,
 "nbformat_minor": 2
}
