{
 "cells": [
  {
   "cell_type": "markdown",
   "metadata": {},
   "source": [
    "### Chapter 6: Property Decorators - Getters, Setters & Deleters\n",
    "\n",
    "- @property decorator; a pythonic way to use getters and setters in object-oriented programming.\n",
    "- The @property decorator is used to solve the problem of backward compatibility that may occur if we make changes(refactoring) in our code.\n",
    "  It makes our implementation backward compatible.\n",
    "\n",
    "__The @property Decorator__\n",
    "\n",
    "In Python, property() is a built-in function that creates and returns a property object. \n",
    "The syntax of this function is:\n",
    "\n",
    "__property(fget=None, fset=None, fdel=None, doc=None)__\n",
    "\n",
    "(All this is better explained in #6programiz)"
   ]
  },
  {
   "cell_type": "code",
   "execution_count": 1,
   "metadata": {},
   "outputs": [],
   "source": [
    "class Employee(object):\n",
    "    def __init__(self,first,last):\n",
    "        self.fname = first\n",
    "        self.lname = last\n",
    "\n",
    "    @property\n",
    "    def fullname(self):\n",
    "        return f\"Fullname: {self.fname} {self.lname}\"\n",
    "    \n",
    "    @fullname.setter\n",
    "    def fullname(self,name):\n",
    "        ## Note: fname and lname here is not the same as we declared above, using self.\n",
    "        fname, lname = name.split(\" \")\n",
    "        self.fname = fname\n",
    "        self.lname = lname"
   ]
  },
  {
   "cell_type": "code",
   "execution_count": 2,
   "metadata": {},
   "outputs": [],
   "source": [
    "emp1 = Employee(\"Sahil\",\"Singh\")\n"
   ]
  },
  {
   "cell_type": "markdown",
   "metadata": {},
   "source": [
    "Now see how I am accessing the fullname() method....yes, just like its a variable and not a method.\n",
    "\n",
    "here, object.fullname will call the getter method.\n",
    "\n",
    "Let's try to call the setter."
   ]
  },
  {
   "cell_type": "code",
   "execution_count": 3,
   "metadata": {},
   "outputs": [
    {
     "data": {
      "text/plain": [
       "'Fullname: Sahil Singh'"
      ]
     },
     "execution_count": 3,
     "metadata": {},
     "output_type": "execute_result"
    }
   ],
   "source": [
    "emp1.fullname"
   ]
  },
  {
   "cell_type": "code",
   "execution_count": 4,
   "metadata": {},
   "outputs": [],
   "source": [
    "emp1.fullname = \"Eka Singh\""
   ]
  },
  {
   "cell_type": "markdown",
   "metadata": {},
   "source": [
    "(Above) I have called the setter by assigning a value(\"Eka Singh\") to the fullname property object.\n",
    "\n",
    "Also, in the object.fullname.fset() method, I have assigned the new values to the fname and lname. Now we will access the object.fname and object.lname, the values will be the ones that was set by the setter method."
   ]
  },
  {
   "cell_type": "code",
   "execution_count": 7,
   "metadata": {},
   "outputs": [
    {
     "name": "stdout",
     "output_type": "stream",
     "text": [
      "Eka\n",
      "Singh\n"
     ]
    }
   ],
   "source": [
    "print(emp1.fname)\n",
    "print(emp1.lname)"
   ]
  },
  {
   "cell_type": "code",
   "execution_count": 8,
   "metadata": {},
   "outputs": [
    {
     "data": {
      "text/plain": [
       "{'fname': 'Eka', 'lname': 'Singh'}"
      ]
     },
     "execution_count": 8,
     "metadata": {},
     "output_type": "execute_result"
    }
   ],
   "source": [
    "emp1.__dict__"
   ]
  },
  {
   "cell_type": "markdown",
   "metadata": {},
   "source": [
    "Hmmm...so here we were able to extend the funtionality of the method fullname, which originally had just one thing to do -> return the fullname, now just by using the @property decorator we were able to implement a setter too.\n",
    "\n",
    "There is one more thing that comes with the poperty() ; the deleter."
   ]
  },
  {
   "cell_type": "code",
   "execution_count": 12,
   "metadata": {},
   "outputs": [],
   "source": [
    "class Employee2(object):\n",
    "    def __init__(self,first,last):\n",
    "        self.fname = first\n",
    "        self.lname = last\n",
    "\n",
    "    @property\n",
    "    def fullname(self):\n",
    "        return f\"Fullname: {self.fname} {self.lname}\"\n",
    "    \n",
    "    @fullname.setter\n",
    "    def fullname(self,name):\n",
    "        print(\"Setting Value...\")\n",
    "        ## Note: fname and lname here is not the same as we declared above, using self.\n",
    "        fname, lname = name.split(\" \")\n",
    "        self.fname = fname\n",
    "        self.lname = lname\n",
    "    \n",
    "    ## The deleter\n",
    "    @fullname.deleter\n",
    "    def fullname(self):\n",
    "        self.fname = None\n",
    "        self.lname = None"
   ]
  },
  {
   "cell_type": "code",
   "execution_count": 15,
   "metadata": {},
   "outputs": [
    {
     "name": "stdout",
     "output_type": "stream",
     "text": [
      "Fullname: Sahil Singh\n",
      "{'fname': 'Sahil', 'lname': 'Singh'}\n"
     ]
    }
   ],
   "source": [
    "emp2 = Employee2(\"Sahil\",\"Singh\")\n",
    "print(emp2.fullname)\n",
    "print(emp2.__dict__)"
   ]
  },
  {
   "cell_type": "code",
   "execution_count": null,
   "metadata": {},
   "outputs": [
    {
     "name": "stdout",
     "output_type": "stream",
     "text": [
      "Setting Value...\n",
      "{'fname': 'hehehe', 'lname': 'voila'}\n"
     ]
    }
   ],
   "source": [
    "emp2.fullname = \"hehehe voila\"\n",
    "print(emp2.__dict__)"
   ]
  },
  {
   "cell_type": "markdown",
   "metadata": {},
   "source": [
    "Calling deleter"
   ]
  },
  {
   "cell_type": "code",
   "execution_count": 17,
   "metadata": {},
   "outputs": [],
   "source": [
    "del emp2.fullname"
   ]
  },
  {
   "cell_type": "code",
   "execution_count": 18,
   "metadata": {},
   "outputs": [
    {
     "name": "stdout",
     "output_type": "stream",
     "text": [
      "None\n",
      "{'fname': None, 'lname': None}\n"
     ]
    }
   ],
   "source": [
    "print(emp2.fname)\n",
    "print(emp2.__dict__)"
   ]
  },
  {
   "cell_type": "code",
   "execution_count": null,
   "metadata": {},
   "outputs": [],
   "source": []
  }
 ],
 "metadata": {
  "kernelspec": {
   "display_name": "Python 3.10.4 64-bit",
   "language": "python",
   "name": "python3"
  },
  "language_info": {
   "codemirror_mode": {
    "name": "ipython",
    "version": 3
   },
   "file_extension": ".py",
   "mimetype": "text/x-python",
   "name": "python",
   "nbconvert_exporter": "python",
   "pygments_lexer": "ipython3",
   "version": "3.10.4"
  },
  "orig_nbformat": 4,
  "vscode": {
   "interpreter": {
    "hash": "369f2c481f4da34e4445cda3fffd2e751bd1c4d706f27375911949ba6bb62e1c"
   }
  }
 },
 "nbformat": 4,
 "nbformat_minor": 2
}
