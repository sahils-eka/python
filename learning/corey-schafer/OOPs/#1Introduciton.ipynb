{
 "cells": [
  {
   "cell_type": "markdown",
   "metadata": {},
   "source": [
    "### OOPs Chapter 1: Classes and Instances"
   ]
  },
  {
   "cell_type": "markdown",
   "metadata": {},
   "source": [
    "Variables and Functions in class are usually called as Attributes & Methods resp."
   ]
  },
  {
   "cell_type": "code",
   "execution_count": 16,
   "metadata": {},
   "outputs": [
    {
     "name": "stdout",
     "output_type": "stream",
     "text": [
      "<__main__.Employee object at 0x000001C80C796B30>\n",
      "<__main__.Employee object at 0x000001C80C796C50>\n"
     ]
    }
   ],
   "source": [
    "# This is the blueprint\n",
    "class Employee:\n",
    "    pass\n",
    "\n",
    "# lets create some instances (of the blueprint(class), from the blueprint)\n",
    "emp_1 = Employee()\n",
    "emp_2 = Employee()\n",
    "\n",
    "\n",
    "#both are unique instances, both have different locations in the memory\n",
    "print(emp_1)\n",
    "print(emp_2)\n"
   ]
  },
  {
   "cell_type": "markdown",
   "metadata": {},
   "source": [
    "Lets create a constructor\n",
    "- In python __init__() is the constructor (aka initialize)\n",
    "- When we create methods in a class they receive the instance as the first argument, automatically. (Each and every method)\n",
    "- By convention, we should call it(the instance) as 'self'..but we can give any name.(Stick to convention :) )"
   ]
  },
  {
   "cell_type": "code",
   "execution_count": 17,
   "metadata": {},
   "outputs": [],
   "source": [
    "class Emp:\n",
    "    def __init__(self, fname,lname,company):\n",
    "        self.fname = fname\n",
    "        self.lname = lname\n",
    "        self.company = company\n",
    "        self.email = f\"{fname}.{lname}@{company}.com\"\n",
    "    \n",
    "    #creating a method to do some action\n",
    "    def dispaly_full_name(self):\n",
    "        print(f\"Full Name: {self.fname} {self.lname}\")\n"
   ]
  },
  {
   "cell_type": "markdown",
   "metadata": {},
   "source": [
    "- A point to note here, when we create an instance of a class, python automatically passes the instance name (object) and we don't have to specify it.\n",
    "- So, by default while creating an instance of a class the first argument to __init__() method is the instance itself and python pass this name for us.\n"
   ]
  },
  {
   "cell_type": "code",
   "execution_count": 18,
   "metadata": {},
   "outputs": [
    {
     "name": "stdout",
     "output_type": "stream",
     "text": [
      "sahil.singh@thales.com\n",
      "eka.singh@microsoft.com\n"
     ]
    }
   ],
   "source": [
    "emp1 = Emp(\"sahil\",\"singh\",\"thales\")\n",
    "emp2 = Emp(\"eka\",\"singh\",\"microsoft\")\n",
    "print(emp1.email)\n",
    "print(emp2.email)"
   ]
  },
  {
   "cell_type": "code",
   "execution_count": 19,
   "metadata": {},
   "outputs": [
    {
     "name": "stdout",
     "output_type": "stream",
     "text": [
      "Full Name: sahil singh\n",
      "Full Name: eka singh\n"
     ]
    }
   ],
   "source": [
    "## Calling the class method\n",
    "emp1.dispaly_full_name()\n",
    "emp2.dispaly_full_name()"
   ]
  },
  {
   "cell_type": "markdown",
   "metadata": {},
   "source": [
    "Note:\n",
    "Here, emp1.display_full_name() is similar to:\n",
    "- Emp.display_full_name(emp1)\n",
    "- ClassName.MethodName(InstanceName)\n",
    "\n",
    "That is, emp1.display_full_name() in background is working like Emp.display_full_name(emp1)"
   ]
  },
  {
   "cell_type": "markdown",
   "metadata": {},
   "source": []
  }
 ],
 "metadata": {
  "interpreter": {
   "hash": "369f2c481f4da34e4445cda3fffd2e751bd1c4d706f27375911949ba6bb62e1c"
  },
  "kernelspec": {
   "display_name": "Python 3.10.4 64-bit",
   "language": "python",
   "name": "python3"
  },
  "language_info": {
   "codemirror_mode": {
    "name": "ipython",
    "version": 3
   },
   "file_extension": ".py",
   "mimetype": "text/x-python",
   "name": "python",
   "nbconvert_exporter": "python",
   "pygments_lexer": "ipython3",
   "version": "3.10.4"
  },
  "orig_nbformat": 4
 },
 "nbformat": 4,
 "nbformat_minor": 2
}
