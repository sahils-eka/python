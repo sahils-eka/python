{
 "cells": [
  {
   "cell_type": "markdown",
   "metadata": {},
   "source": [
    "### Programiz\n",
    "\n",
    "- The repr() function returns a printable representation of the given object."
   ]
  },
  {
   "cell_type": "code",
   "execution_count": 6,
   "metadata": {},
   "outputs": [
    {
     "name": "stdout",
     "output_type": "stream",
     "text": [
      "[1, 2, 3, 4, 5]\n"
     ]
    }
   ],
   "source": [
    "numbers = [1, 2, 3, 4, 5]\n",
    "\n",
    "# create a printable representation of the list\n",
    "printable_numbers = repr(numbers)\n",
    "print(printable_numbers)\n",
    "\n",
    "# Output: [1, 2, 3, 4, 5]"
   ]
  },
  {
   "cell_type": "code",
   "execution_count": 7,
   "metadata": {},
   "outputs": [
    {
     "name": "stdout",
     "output_type": "stream",
     "text": [
      "Type of printable_numbers = <class 'str'>\n",
      "\n",
      "Type of numbers = <class 'list'>\n"
     ]
    }
   ],
   "source": [
    "print(f\"Type of printable_numbers = {type(printable_numbers)}\")\n",
    "print(f\"\\nType of numbers = {type(numbers)}\")\n",
    "\n",
    "# Check the type of both these variables\n"
   ]
  },
  {
   "cell_type": "markdown",
   "metadata": {},
   "source": [
    "### repr() Return Value\n",
    "- The repr() function returns a printable representational string of the given object."
   ]
  },
  {
   "cell_type": "markdown",
   "metadata": {},
   "source": [
    "Example 1: How repr() works in Python?\n",
    "\n",
    "Here, we assign a value 'foo' to var. Then, the repr() function returns \"'foo'\", 'foo' inside double-quotes."
   ]
  },
  {
   "cell_type": "code",
   "execution_count": 1,
   "metadata": {},
   "outputs": [
    {
     "name": "stdout",
     "output_type": "stream",
     "text": [
      "'foo'\n"
     ]
    }
   ],
   "source": [
    "var = 'foo'\n",
    "print(repr(var))"
   ]
  },
  {
   "cell_type": "markdown",
   "metadata": {},
   "source": [
    "Example 2: Implement \\_\\_repr\\_\\_() for custom objects\n",
    "\n",
    "#### Internally, repr() function calls \\_\\_repr\\_\\_() of the given object.\n",
    "\n",
    "You can easily implement/override \\_\\_repr\\_\\_() so that repr() works differently."
   ]
  },
  {
   "cell_type": "code",
   "execution_count": 2,
   "metadata": {},
   "outputs": [
    {
     "name": "stdout",
     "output_type": "stream",
     "text": [
      "'Hello Adam'\n"
     ]
    }
   ],
   "source": [
    "class Person:\n",
    "    name = 'Adam'\n",
    "\n",
    "    ## here we are overriding the __repr__() method\n",
    "    def __repr__(self):\n",
    "        return repr('Hello ' + self.name )\n",
    "\n",
    "print(repr(Person()))"
   ]
  },
  {
   "cell_type": "code",
   "execution_count": null,
   "metadata": {},
   "outputs": [],
   "source": []
  }
 ],
 "metadata": {
  "kernelspec": {
   "display_name": "Python 3.10.4 64-bit",
   "language": "python",
   "name": "python3"
  },
  "language_info": {
   "codemirror_mode": {
    "name": "ipython",
    "version": 3
   },
   "file_extension": ".py",
   "mimetype": "text/x-python",
   "name": "python",
   "nbconvert_exporter": "python",
   "pygments_lexer": "ipython3",
   "version": "3.10.4"
  },
  "orig_nbformat": 4,
  "vscode": {
   "interpreter": {
    "hash": "369f2c481f4da34e4445cda3fffd2e751bd1c4d706f27375911949ba6bb62e1c"
   }
  }
 },
 "nbformat": 4,
 "nbformat_minor": 2
}
