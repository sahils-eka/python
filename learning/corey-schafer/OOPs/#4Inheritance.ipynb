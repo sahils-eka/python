{
 "cells": [
  {
   "cell_type": "markdown",
   "metadata": {},
   "source": [
    "### OOPs Chapter 4 - Inheritance"
   ]
  },
  {
   "cell_type": "code",
   "execution_count": 3,
   "metadata": {},
   "outputs": [],
   "source": [
    "class Employee:\n",
    "    raise_amt = 1.04\n",
    "    def __init__(self,fname,lname,salary):\n",
    "        self.first = fname\n",
    "        self.last = lname\n",
    "        self.email = f\"{fname}.{lname}@company.com\"\n",
    "        self.pay = salary\n",
    "\n",
    "    def fullname(self):\n",
    "        print(f\"Full Name: {self.first} {self.last}\")\n",
    "\n",
    "    def apply_raise(self):\n",
    "        self.newSalary = self.pay * Employee.raise_amt\n",
    "## Inheritng the Class Employee\n",
    "class Developer(Employee):\n",
    "    pass\n"
   ]
  },
  {
   "cell_type": "markdown",
   "metadata": {},
   "source": [
    "Note that we haven't written anything inside the Developer class body."
   ]
  },
  {
   "cell_type": "code",
   "execution_count": 8,
   "metadata": {},
   "outputs": [
    {
     "name": "stdout",
     "output_type": "stream",
     "text": [
      "Sahil.Singh@company.com\n",
      "Full Name: Sahil Singh\n",
      "Upcoming raise= 1.04\n"
     ]
    }
   ],
   "source": [
    "dev1 = Developer(\"Sahil\",\"Singh\",9000)\n",
    "print(dev1.email)\n",
    "dev1.fullname()\n",
    "print(f\"Upcoming raise= {dev1.raise_amt}\")"
   ]
  },
  {
   "cell_type": "markdown",
   "metadata": {},
   "source": [
    "The above code worked because the Developer class is the sub class of Employee class, that is...it has inherited all the methods and objects of the Employee class.\n",
    "\n",
    "Python first checked if the method or attribute that we are trying to target is in the Developer class or not, if not then it went ahead and looked in it's Parent Class i.e, Employee. This chain or order is called Method Resolution.\n",
    "\n",
    "Let's try to see the dict of these classes and compare them."
   ]
  },
  {
   "cell_type": "code",
   "execution_count": 9,
   "metadata": {},
   "outputs": [
    {
     "name": "stdout",
     "output_type": "stream",
     "text": [
      "__dict__ of Employee:\n",
      " {'__module__': '__main__', 'raise_amt': 1.04, '__init__': <function Employee.__init__ at 0x000001A7B92A5B40>, 'fullname': <function Employee.fullname at 0x000001A7BADCD870>, 'apply_raise': <function Employee.apply_raise at 0x000001A7BADCDBD0>, '__dict__': <attribute '__dict__' of 'Employee' objects>, '__weakref__': <attribute '__weakref__' of 'Employee' objects>, '__doc__': None}\n",
      "\n",
      "__dict__ of Developer:\n",
      "{'__module__': '__main__', '__doc__': None}\n"
     ]
    }
   ],
   "source": [
    "print(f\"__dict__ of Employee:\\n {Employee.__dict__}\")\n",
    "print(f\"\\n__dict__ of Developer:\\n{Developer.__dict__}\")"
   ]
  },
  {
   "cell_type": "markdown",
   "metadata": {},
   "source": [
    "__help()__ function - This is a very useful function which can be used to get important information related to your Class.\n",
    "\n",
    "Let's try it out..."
   ]
  },
  {
   "cell_type": "code",
   "execution_count": 10,
   "metadata": {},
   "outputs": [
    {
     "name": "stdout",
     "output_type": "stream",
     "text": [
      "Help on class Developer in module __main__:\n",
      "\n",
      "class Developer(Employee)\n",
      " |  Developer(fname, lname, salary)\n",
      " |  \n",
      " |  Method resolution order:\n",
      " |      Developer\n",
      " |      Employee\n",
      " |      builtins.object\n",
      " |  \n",
      " |  Methods inherited from Employee:\n",
      " |  \n",
      " |  __init__(self, fname, lname, salary)\n",
      " |      Initialize self.  See help(type(self)) for accurate signature.\n",
      " |  \n",
      " |  apply_raise(self)\n",
      " |  \n",
      " |  fullname(self)\n",
      " |  \n",
      " |  ----------------------------------------------------------------------\n",
      " |  Data descriptors inherited from Employee:\n",
      " |  \n",
      " |  __dict__\n",
      " |      dictionary for instance variables (if defined)\n",
      " |  \n",
      " |  __weakref__\n",
      " |      list of weak references to the object (if defined)\n",
      " |  \n",
      " |  ----------------------------------------------------------------------\n",
      " |  Data and other attributes inherited from Employee:\n",
      " |  \n",
      " |  raise_amt = 1.04\n",
      "\n",
      "None\n"
     ]
    }
   ],
   "source": [
    "print(help(Developer))"
   ]
  },
  {
   "cell_type": "code",
   "execution_count": 12,
   "metadata": {},
   "outputs": [],
   "source": [
    "class Employee:\n",
    "    raise_amt = 1.04\n",
    "    def __init__(self,fname,lname,salary):\n",
    "        self.first = fname\n",
    "        self.last = lname\n",
    "        self.email = f\"{fname}.{lname}@company.com\"\n",
    "        self.pay = salary\n",
    "\n",
    "    def fullname(self):\n",
    "        print(f\"Full Name: {self.first} {self.last}\")\n",
    "\n",
    "    def apply_raise(self):\n",
    "        self.newSalary = self.pay * Employee.raise_amt\n",
    "        \n",
    "## Inheritng the Class Employee\n",
    "class Developer2(Employee):\n",
    "    def __init__(self,prog):\n",
    "        self.prog_lang = prog"
   ]
  },
  {
   "cell_type": "markdown",
   "metadata": {},
   "source": [
    "Will the Developer Class inherit the __init__ method? "
   ]
  },
  {
   "cell_type": "code",
   "execution_count": 14,
   "metadata": {},
   "outputs": [],
   "source": [
    "dev1 = Developer2(\"Python\")"
   ]
  },
  {
   "cell_type": "markdown",
   "metadata": {},
   "source": [
    "In the above code, the instance creation only requires user to enter the Programming Language...but why it is not asking for the Name and Salary?\n",
    "\n",
    "It should right? as the Developer Class is inherting all the methods and attributes from the Employee Class...the answer is No.\n",
    "\n",
    "Here we have overriden the super class's init() method or created Developer's constructor.\n",
    "- we can verify this using the help() method."
   ]
  },
  {
   "cell_type": "code",
   "execution_count": 15,
   "metadata": {},
   "outputs": [
    {
     "name": "stdout",
     "output_type": "stream",
     "text": [
      "Help on class Developer2 in module __main__:\n",
      "\n",
      "class Developer2(Employee)\n",
      " |  Developer2(prog)\n",
      " |  \n",
      " |  Method resolution order:\n",
      " |      Developer2\n",
      " |      Employee\n",
      " |      builtins.object\n",
      " |  \n",
      " |  Methods defined here:\n",
      " |  \n",
      " |  __init__(self, prog)\n",
      " |      Initialize self.  See help(type(self)) for accurate signature.\n",
      " |  \n",
      " |  ----------------------------------------------------------------------\n",
      " |  Methods inherited from Employee:\n",
      " |  \n",
      " |  apply_raise(self)\n",
      " |  \n",
      " |  fullname(self)\n",
      " |  \n",
      " |  ----------------------------------------------------------------------\n",
      " |  Data descriptors inherited from Employee:\n",
      " |  \n",
      " |  __dict__\n",
      " |      dictionary for instance variables (if defined)\n",
      " |  \n",
      " |  __weakref__\n",
      " |      list of weak references to the object (if defined)\n",
      " |  \n",
      " |  ----------------------------------------------------------------------\n",
      " |  Data and other attributes inherited from Employee:\n",
      " |  \n",
      " |  raise_amt = 1.04\n",
      "\n",
      "None\n"
     ]
    }
   ],
   "source": [
    "print(help(Developer2))"
   ]
  },
  {
   "cell_type": "markdown",
   "metadata": {},
   "source": [
    "From the above output it's pretty clear that Developer2 Class didn't inherit the init() method of it's parent class.\n",
    "\n",
    "Note: It was able to Inherit rest of the other methods and data.\n",
    "\n",
    "But what if we want to gain access to the super class init() method and we want to modify it, that is adding some thing on top of the inherited init() method.\n",
    "\n",
    "That can be done in this way:\n",
    "- So the ask here is that we have to add a new input called programming language in Developer Class. Rest all of the information will be taken as same we did in Employee Class."
   ]
  },
  {
   "cell_type": "code",
   "execution_count": 18,
   "metadata": {},
   "outputs": [
    {
     "name": "stdout",
     "output_type": "stream",
     "text": [
      "Sahil.Singh@company.com\n",
      "Python\n"
     ]
    }
   ],
   "source": [
    "class Employee:\n",
    "    raise_amt = 1.04\n",
    "    def __init__(self,fname,lname,salary):\n",
    "        self.first = fname\n",
    "        self.last = lname\n",
    "        self.email = f\"{fname}.{lname}@company.com\"\n",
    "        self.pay = salary\n",
    "\n",
    "    def fullname(self):\n",
    "        print(f\"Full Name: {self.first} {self.last}\")\n",
    "\n",
    "    def apply_raise(self):\n",
    "        self.newSalary = self.pay * Employee.raise_amt\n",
    "\n",
    "## This is how we can use the init() method\n",
    "\n",
    "class Developer2(Employee):\n",
    "    def __init__(self,fname,lname,salary,prog):\n",
    "        \n",
    "        ## Here we are calling the Employee.__init__() method. \n",
    "        # It requires a first & last name and salary \n",
    "        super().__init__(fname,lname,salary)\n",
    "\n",
    "        ## Adding this extra attribute specifically for this Developer Class.\n",
    "        self.prog_lang = prog\n",
    "\n",
    "dev2_1 = Developer2(\"Sahil\",\"Singh\",17000,\"Python\")\n",
    "print(dev2_1.email)\n",
    "print(dev2_1.prog_lang)"
   ]
  },
  {
   "cell_type": "markdown",
   "metadata": {},
   "source": [
    "Note: This dev2_1 instance was able to access Employee.email too\n",
    "\n",
    "So while creating an instance of Developer2 Class, we are basically inherting and calling Employee class init() method.\n",
    "And in the Developer2 Class we are setting the programming language.\n",
    "\n",
    "Using this we have reduced 4-6 lines of code - the main reason why inheritance is used, to reduce the redundancy."
   ]
  },
  {
   "cell_type": "markdown",
   "metadata": {},
   "source": [
    "### Code it out"
   ]
  },
  {
   "cell_type": "code",
   "execution_count": 73,
   "metadata": {},
   "outputs": [],
   "source": [
    "class Emp():\n",
    "    count = 0\n",
    "    def __init__(self,first_name,last_name,salary):\n",
    "        self.fname = first_name\n",
    "        self.lname = last_name\n",
    "        self.pay = salary\n",
    "        Emp.count += 1\n",
    "    \n",
    "    def email(self):\n",
    "        return f\"{self.fname}.{self.lname}@emp.com\"\n",
    "\n",
    "    @classmethod\n",
    "    def number_of_emp(cls):\n",
    "        print(f\"\\nNumber of employees= {cls.count}\")\n",
    "\n",
    "class Developer(Emp):\n",
    "    def __init__(self,fname,lname,salary,company):\n",
    "        super().__init__(fname,lname,salary)\n",
    "        self.org = company\n",
    "    \n",
    "    def email(self):\n",
    "        return f\"{self.fname}.{self.lname}@{self.org}.com\"\n",
    "\n",
    "class Manager(Emp):\n",
    "    def __init__(self, fname,lname,pay,employees=None):\n",
    "        super().__init__(fname,lname,pay)\n",
    "        if employees is None:\n",
    "            self.emp_list = []\n",
    "        else:\n",
    "            self.emp_list = employees\n",
    "    \n",
    "    def add_emp(self,employee):\n",
    "        if employee not in self.emp_list:\n",
    "            self.emp_list.append(employee)\n",
    "        else:\n",
    "            print(f\"Employee {employee.email()} already present.\")\n",
    "        \n",
    "    def remove_emp(self,employee):\n",
    "        if employee in self.emp_list:\n",
    "            self.emp_list.remove(employee)\n",
    "        else:\n",
    "            print(f\"Employee {employee.email()} doesn't work for this manager\")\n",
    "\n",
    "    def show_emp(self):\n",
    "        for emp in self.emp_list:\n",
    "            print(emp.email())"
   ]
  },
  {
   "cell_type": "code",
   "execution_count": 60,
   "metadata": {},
   "outputs": [],
   "source": [
    "emp1=Emp(\"sahil\",\"singh\",20)\n",
    "emp2=Emp(\"eka\",\"singh\",20)"
   ]
  },
  {
   "cell_type": "code",
   "execution_count": 61,
   "metadata": {},
   "outputs": [
    {
     "name": "stdout",
     "output_type": "stream",
     "text": [
      "\n",
      "Number of employees= 2\n"
     ]
    }
   ],
   "source": [
    "Emp.number_of_emp()"
   ]
  },
  {
   "cell_type": "code",
   "execution_count": 62,
   "metadata": {},
   "outputs": [],
   "source": [
    "dev1 = Developer(\"sahil\",\"singh\",22,\"google\")"
   ]
  },
  {
   "cell_type": "code",
   "execution_count": 63,
   "metadata": {},
   "outputs": [
    {
     "data": {
      "text/plain": [
       "'sahil.singh@google.com'"
      ]
     },
     "execution_count": 63,
     "metadata": {},
     "output_type": "execute_result"
    }
   ],
   "source": [
    "dev1.email()"
   ]
  },
  {
   "cell_type": "code",
   "execution_count": 30,
   "metadata": {},
   "outputs": [
    {
     "name": "stdout",
     "output_type": "stream",
     "text": [
      "Help on class Emp in module __main__:\n",
      "\n",
      "class Emp(builtins.object)\n",
      " |  Emp(first_name, last_name, salary)\n",
      " |  \n",
      " |  Methods defined here:\n",
      " |  \n",
      " |  __init__(self, first_name, last_name, salary)\n",
      " |      Initialize self.  See help(type(self)) for accurate signature.\n",
      " |  \n",
      " |  email(self)\n",
      " |  \n",
      " |  ----------------------------------------------------------------------\n",
      " |  Class methods defined here:\n",
      " |  \n",
      " |  number_of_emp() from builtins.type\n",
      " |  \n",
      " |  ----------------------------------------------------------------------\n",
      " |  Data descriptors defined here:\n",
      " |  \n",
      " |  __dict__\n",
      " |      dictionary for instance variables (if defined)\n",
      " |  \n",
      " |  __weakref__\n",
      " |      list of weak references to the object (if defined)\n",
      " |  \n",
      " |  ----------------------------------------------------------------------\n",
      " |  Data and other attributes defined here:\n",
      " |  \n",
      " |  count = 1\n",
      "\n",
      "None\n"
     ]
    }
   ],
   "source": [
    "print(help(Emp))"
   ]
  },
  {
   "cell_type": "code",
   "execution_count": 34,
   "metadata": {},
   "outputs": [
    {
     "name": "stdout",
     "output_type": "stream",
     "text": [
      "Help on class Developer in module __main__:\n",
      "\n",
      "class Developer(Emp)\n",
      " |  Developer(fname, lname, salary, company)\n",
      " |  \n",
      " |  Method resolution order:\n",
      " |      Developer\n",
      " |      Emp\n",
      " |      builtins.object\n",
      " |  \n",
      " |  Methods defined here:\n",
      " |  \n",
      " |  __init__(self, fname, lname, salary, company)\n",
      " |      Initialize self.  See help(type(self)) for accurate signature.\n",
      " |  \n",
      " |  ----------------------------------------------------------------------\n",
      " |  Methods inherited from Emp:\n",
      " |  \n",
      " |  email(self)\n",
      " |  \n",
      " |  ----------------------------------------------------------------------\n",
      " |  Class methods inherited from Emp:\n",
      " |  \n",
      " |  number_of_emp() from builtins.type\n",
      " |  \n",
      " |  ----------------------------------------------------------------------\n",
      " |  Data descriptors inherited from Emp:\n",
      " |  \n",
      " |  __dict__\n",
      " |      dictionary for instance variables (if defined)\n",
      " |  \n",
      " |  __weakref__\n",
      " |      list of weak references to the object (if defined)\n",
      " |  \n",
      " |  ----------------------------------------------------------------------\n",
      " |  Data and other attributes inherited from Emp:\n",
      " |  \n",
      " |  count = 1\n",
      "\n"
     ]
    }
   ],
   "source": [
    "help(Developer)"
   ]
  },
  {
   "cell_type": "markdown",
   "metadata": {},
   "source": [
    "- Above ouput is after commenting out the email() method in Developer class.\n",
    "  - the email() method will be inherited from the Emp class\n",
    "  - Check the \"Methods inherited from Emp\" section\n",
    "   \n",
    "- Below output is for the email() method defined inside the Developer class.\n",
    "  - Check the \"Method Defined here\""
   ]
  },
  {
   "cell_type": "code",
   "execution_count": 36,
   "metadata": {},
   "outputs": [
    {
     "name": "stdout",
     "output_type": "stream",
     "text": [
      "Help on class Developer in module __main__:\n",
      "\n",
      "class Developer(Emp)\n",
      " |  Developer(fname, lname, salary, company)\n",
      " |  \n",
      " |  Method resolution order:\n",
      " |      Developer\n",
      " |      Emp\n",
      " |      builtins.object\n",
      " |  \n",
      " |  Methods defined here:\n",
      " |  \n",
      " |  __init__(self, fname, lname, salary, company)\n",
      " |      Initialize self.  See help(type(self)) for accurate signature.\n",
      " |  \n",
      " |  email(self)\n",
      " |  \n",
      " |  ----------------------------------------------------------------------\n",
      " |  Class methods inherited from Emp:\n",
      " |  \n",
      " |  number_of_emp() from builtins.type\n",
      " |  \n",
      " |  ----------------------------------------------------------------------\n",
      " |  Data descriptors inherited from Emp:\n",
      " |  \n",
      " |  __dict__\n",
      " |      dictionary for instance variables (if defined)\n",
      " |  \n",
      " |  __weakref__\n",
      " |      list of weak references to the object (if defined)\n",
      " |  \n",
      " |  ----------------------------------------------------------------------\n",
      " |  Data and other attributes inherited from Emp:\n",
      " |  \n",
      " |  count = 0\n",
      "\n"
     ]
    }
   ],
   "source": [
    "help(Developer)"
   ]
  },
  {
   "cell_type": "code",
   "execution_count": 74,
   "metadata": {},
   "outputs": [],
   "source": [
    "mang1 = Manager(\"Rudra\",\"singh\",32,[emp2,dev1])"
   ]
  },
  {
   "cell_type": "code",
   "execution_count": 75,
   "metadata": {},
   "outputs": [
    {
     "name": "stdout",
     "output_type": "stream",
     "text": [
      "eka.singh@emp.com\n",
      "sahil.singh@google.com\n"
     ]
    }
   ],
   "source": [
    "mang1.show_emp()"
   ]
  },
  {
   "cell_type": "code",
   "execution_count": 76,
   "metadata": {},
   "outputs": [],
   "source": [
    "mang1.add_emp(emp1)"
   ]
  },
  {
   "cell_type": "code",
   "execution_count": 77,
   "metadata": {},
   "outputs": [
    {
     "name": "stdout",
     "output_type": "stream",
     "text": [
      "eka.singh@emp.com\n",
      "sahil.singh@google.com\n",
      "sahil.singh@emp.com\n"
     ]
    }
   ],
   "source": [
    "mang1.show_emp()"
   ]
  },
  {
   "cell_type": "code",
   "execution_count": 78,
   "metadata": {},
   "outputs": [
    {
     "name": "stdout",
     "output_type": "stream",
     "text": [
      "Employee sahil.singh@emp.com already present.\n"
     ]
    }
   ],
   "source": [
    "mang1.add_emp(emp1)"
   ]
  },
  {
   "cell_type": "code",
   "execution_count": 79,
   "metadata": {},
   "outputs": [],
   "source": [
    "mang1.remove_emp(emp2)"
   ]
  },
  {
   "cell_type": "code",
   "execution_count": 80,
   "metadata": {},
   "outputs": [
    {
     "name": "stdout",
     "output_type": "stream",
     "text": [
      "sahil.singh@google.com\n",
      "sahil.singh@emp.com\n"
     ]
    }
   ],
   "source": [
    "mang1.show_emp()"
   ]
  },
  {
   "cell_type": "code",
   "execution_count": 81,
   "metadata": {},
   "outputs": [],
   "source": [
    "mang1.remove_emp(emp1)"
   ]
  },
  {
   "cell_type": "code",
   "execution_count": 82,
   "metadata": {},
   "outputs": [
    {
     "name": "stdout",
     "output_type": "stream",
     "text": [
      "Employee eka.singh@emp.com doesn't work for this manager\n"
     ]
    }
   ],
   "source": [
    "mang1.remove_emp(emp2)"
   ]
  },
  {
   "cell_type": "code",
   "execution_count": 83,
   "metadata": {},
   "outputs": [
    {
     "name": "stdout",
     "output_type": "stream",
     "text": [
      "sahil.singh@google.com\n"
     ]
    }
   ],
   "source": [
    "mang1.show_emp()"
   ]
  },
  {
   "cell_type": "code",
   "execution_count": null,
   "metadata": {},
   "outputs": [],
   "source": []
  }
 ],
 "metadata": {
  "kernelspec": {
   "display_name": "Python 3.10.4 64-bit",
   "language": "python",
   "name": "python3"
  },
  "language_info": {
   "codemirror_mode": {
    "name": "ipython",
    "version": 3
   },
   "file_extension": ".py",
   "mimetype": "text/x-python",
   "name": "python",
   "nbconvert_exporter": "python",
   "pygments_lexer": "ipython3",
   "version": "3.10.4"
  },
  "orig_nbformat": 4,
  "vscode": {
   "interpreter": {
    "hash": "369f2c481f4da34e4445cda3fffd2e751bd1c4d706f27375911949ba6bb62e1c"
   }
  }
 },
 "nbformat": 4,
 "nbformat_minor": 2
}
